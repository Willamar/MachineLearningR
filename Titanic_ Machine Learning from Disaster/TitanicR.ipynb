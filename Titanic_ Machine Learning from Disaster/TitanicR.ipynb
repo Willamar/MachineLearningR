{
  "cells": [
    {
      "metadata": {
        "trusted": true
      },
      "cell_type": "code",
      "source": "install.packages(\"ISLR\")\nlibrary(ISLR)\nrequire(tree)",
      "execution_count": 1,
      "outputs": [
        {
          "output_type": "stream",
          "text": "Installing package into ‘/home/nbuser/R’\n(as ‘lib’ is unspecified)\nLoading required package: tree\n",
          "name": "stderr"
        }
      ]
    },
    {
      "metadata": {
        "trusted": true
      },
      "cell_type": "code",
      "source": "train <- read.csv(\"DataSets/train.csv\")\ntest <- read.csv(\"DataSets/test.csv\")",
      "execution_count": 2,
      "outputs": []
    },
    {
      "metadata": {
        "trusted": true
      },
      "cell_type": "code",
      "source": "head(train)",
      "execution_count": 3,
      "outputs": [
        {
          "output_type": "display_data",
          "data": {
            "text/plain": "  PassengerId Survived Pclass\n1 1           0        3     \n2 2           1        1     \n3 3           1        3     \n4 4           1        1     \n5 5           0        3     \n6 6           0        3     \n  Name                                                Sex    Age SibSp Parch\n1 Braund, Mr. Owen Harris                             male   22  1     0    \n2 Cumings, Mrs. John Bradley (Florence Briggs Thayer) female 38  1     0    \n3 Heikkinen, Miss. Laina                              female 26  0     0    \n4 Futrelle, Mrs. Jacques Heath (Lily May Peel)        female 35  1     0    \n5 Allen, Mr. William Henry                            male   35  0     0    \n6 Moran, Mr. James                                    male   NA  0     0    \n  Ticket           Fare    Cabin Embarked\n1 A/5 21171         7.2500       S       \n2 PC 17599         71.2833 C85   C       \n3 STON/O2. 3101282  7.9250       S       \n4 113803           53.1000 C123  S       \n5 373450            8.0500       S       \n6 330877            8.4583       Q       ",
            "text/latex": "\\begin{tabular}{r|llllllllllll}\n PassengerId & Survived & Pclass & Name & Sex & Age & SibSp & Parch & Ticket & Fare & Cabin & Embarked\\\\\n\\hline\n\t 1                                                   & 0                                                   & 3                                                   & Braund, Mr. Owen Harris                             & male                                                & 22                                                  & 1                                                   & 0                                                   & A/5 21171                                           &  7.2500                                             &                                                     & S                                                  \\\\\n\t 2                                                   & 1                                                   & 1                                                   & Cumings, Mrs. John Bradley (Florence Briggs Thayer) & female                                              & 38                                                  & 1                                                   & 0                                                   & PC 17599                                            & 71.2833                                             & C85                                                 & C                                                  \\\\\n\t 3                                                   & 1                                                   & 3                                                   & Heikkinen, Miss. Laina                              & female                                              & 26                                                  & 0                                                   & 0                                                   & STON/O2. 3101282                                    &  7.9250                                             &                                                     & S                                                  \\\\\n\t 4                                                   & 1                                                   & 1                                                   & Futrelle, Mrs. Jacques Heath (Lily May Peel)        & female                                              & 35                                                  & 1                                                   & 0                                                   & 113803                                              & 53.1000                                             & C123                                                & S                                                  \\\\\n\t 5                                                   & 0                                                   & 3                                                   & Allen, Mr. William Henry                            & male                                                & 35                                                  & 0                                                   & 0                                                   & 373450                                              &  8.0500                                             &                                                     & S                                                  \\\\\n\t 6                                                   & 0                                                   & 3                                                   & Moran, Mr. James                                    & male                                                & NA                                                  & 0                                                   & 0                                                   & 330877                                              &  8.4583                                             &                                                     & Q                                                  \\\\\n\\end{tabular}\n",
            "text/markdown": "\nPassengerId | Survived | Pclass | Name | Sex | Age | SibSp | Parch | Ticket | Fare | Cabin | Embarked | \n|---|---|---|---|---|---|\n| 1                                                   | 0                                                   | 3                                                   | Braund, Mr. Owen Harris                             | male                                                | 22                                                  | 1                                                   | 0                                                   | A/5 21171                                           |  7.2500                                             |                                                     | S                                                   | \n| 2                                                   | 1                                                   | 1                                                   | Cumings, Mrs. John Bradley (Florence Briggs Thayer) | female                                              | 38                                                  | 1                                                   | 0                                                   | PC 17599                                            | 71.2833                                             | C85                                                 | C                                                   | \n| 3                                                   | 1                                                   | 3                                                   | Heikkinen, Miss. Laina                              | female                                              | 26                                                  | 0                                                   | 0                                                   | STON/O2. 3101282                                    |  7.9250                                             |                                                     | S                                                   | \n| 4                                                   | 1                                                   | 1                                                   | Futrelle, Mrs. Jacques Heath (Lily May Peel)        | female                                              | 35                                                  | 1                                                   | 0                                                   | 113803                                              | 53.1000                                             | C123                                                | S                                                   | \n| 5                                                   | 0                                                   | 3                                                   | Allen, Mr. William Henry                            | male                                                | 35                                                  | 0                                                   | 0                                                   | 373450                                              |  8.0500                                             |                                                     | S                                                   | \n| 6                                                   | 0                                                   | 3                                                   | Moran, Mr. James                                    | male                                                | NA                                                  | 0                                                   | 0                                                   | 330877                                              |  8.4583                                             |                                                     | Q                                                   | \n\n\n",
            "text/html": "<table>\n<thead><tr><th scope=col>PassengerId</th><th scope=col>Survived</th><th scope=col>Pclass</th><th scope=col>Name</th><th scope=col>Sex</th><th scope=col>Age</th><th scope=col>SibSp</th><th scope=col>Parch</th><th scope=col>Ticket</th><th scope=col>Fare</th><th scope=col>Cabin</th><th scope=col>Embarked</th></tr></thead>\n<tbody>\n\t<tr><td>1                                                  </td><td>0                                                  </td><td>3                                                  </td><td>Braund, Mr. Owen Harris                            </td><td>male                                               </td><td>22                                                 </td><td>1                                                  </td><td>0                                                  </td><td>A/5 21171                                          </td><td> 7.2500                                            </td><td>                                                   </td><td>S                                                  </td></tr>\n\t<tr><td>2                                                  </td><td>1                                                  </td><td>1                                                  </td><td>Cumings, Mrs. John Bradley (Florence Briggs Thayer)</td><td>female                                             </td><td>38                                                 </td><td>1                                                  </td><td>0                                                  </td><td>PC 17599                                           </td><td>71.2833                                            </td><td>C85                                                </td><td>C                                                  </td></tr>\n\t<tr><td>3                                                  </td><td>1                                                  </td><td>3                                                  </td><td>Heikkinen, Miss. Laina                             </td><td>female                                             </td><td>26                                                 </td><td>0                                                  </td><td>0                                                  </td><td>STON/O2. 3101282                                   </td><td> 7.9250                                            </td><td>                                                   </td><td>S                                                  </td></tr>\n\t<tr><td>4                                                  </td><td>1                                                  </td><td>1                                                  </td><td>Futrelle, Mrs. Jacques Heath (Lily May Peel)       </td><td>female                                             </td><td>35                                                 </td><td>1                                                  </td><td>0                                                  </td><td>113803                                             </td><td>53.1000                                            </td><td>C123                                               </td><td>S                                                  </td></tr>\n\t<tr><td>5                                                  </td><td>0                                                  </td><td>3                                                  </td><td>Allen, Mr. William Henry                           </td><td>male                                               </td><td>35                                                 </td><td>0                                                  </td><td>0                                                  </td><td>373450                                             </td><td> 8.0500                                            </td><td>                                                   </td><td>S                                                  </td></tr>\n\t<tr><td>6                                                  </td><td>0                                                  </td><td>3                                                  </td><td>Moran, Mr. James                                   </td><td>male                                               </td><td>NA                                                 </td><td>0                                                  </td><td>0                                                  </td><td>330877                                             </td><td> 8.4583                                            </td><td>                                                   </td><td>Q                                                  </td></tr>\n</tbody>\n</table>\n"
          },
          "metadata": {}
        }
      ]
    },
    {
      "metadata": {
        "trusted": true
      },
      "cell_type": "code",
      "source": "train[c('Name', 'Ticket', 'Cabin')] <- NULL\ntest[c('Name', 'Ticket', 'Cabin')] <- NULL",
      "execution_count": 4,
      "outputs": []
    },
    {
      "metadata": {
        "trusted": true
      },
      "cell_type": "code",
      "source": "install.packages(\"fastDummies\")\nlibrary(fastDummies)",
      "execution_count": 5,
      "outputs": [
        {
          "output_type": "stream",
          "text": "Installing package into ‘/home/nbuser/R’\n(as ‘lib’ is unspecified)\n",
          "name": "stderr"
        }
      ]
    },
    {
      "metadata": {
        "trusted": true
      },
      "cell_type": "code",
      "source": "new_data_train <- dummy_cols(train)\nnew_data_test <- dummy_cols(test)",
      "execution_count": 6,
      "outputs": []
    },
    {
      "metadata": {
        "trusted": true
      },
      "cell_type": "code",
      "source": "head(new_data_train)",
      "execution_count": 7,
      "outputs": [
        {
          "output_type": "display_data",
          "data": {
            "text/plain": "  PassengerId Survived Pclass Sex    Age SibSp Parch Fare    Embarked Sex_male\n1 1           0        3      male   22  1     0      7.2500 S        1       \n2 2           1        1      female 38  1     0     71.2833 C        0       \n3 3           1        3      female 26  0     0      7.9250 S        0       \n4 4           1        1      female 35  1     0     53.1000 S        0       \n5 5           0        3      male   35  0     0      8.0500 S        1       \n6 6           0        3      male   NA  0     0      8.4583 Q        1       \n  Sex_female Embarked_S Embarked_C Embarked_Q Embarked_\n1 0          1          0          0          0        \n2 1          0          1          0          0        \n3 1          1          0          0          0        \n4 1          1          0          0          0        \n5 0          1          0          0          0        \n6 0          0          0          1          0        ",
            "text/latex": "\\begin{tabular}{r|lllllllllllllll}\n PassengerId & Survived & Pclass & Sex & Age & SibSp & Parch & Fare & Embarked & Sex\\_male & Sex\\_female & Embarked\\_S & Embarked\\_C & Embarked\\_Q & Embarked\\_\\\\\n\\hline\n\t 1       & 0       & 3       & male    & 22      & 1       & 0       &  7.2500 & S       & 1       & 0       & 1       & 0       & 0       & 0      \\\\\n\t 2       & 1       & 1       & female  & 38      & 1       & 0       & 71.2833 & C       & 0       & 1       & 0       & 1       & 0       & 0      \\\\\n\t 3       & 1       & 3       & female  & 26      & 0       & 0       &  7.9250 & S       & 0       & 1       & 1       & 0       & 0       & 0      \\\\\n\t 4       & 1       & 1       & female  & 35      & 1       & 0       & 53.1000 & S       & 0       & 1       & 1       & 0       & 0       & 0      \\\\\n\t 5       & 0       & 3       & male    & 35      & 0       & 0       &  8.0500 & S       & 1       & 0       & 1       & 0       & 0       & 0      \\\\\n\t 6       & 0       & 3       & male    & NA      & 0       & 0       &  8.4583 & Q       & 1       & 0       & 0       & 0       & 1       & 0      \\\\\n\\end{tabular}\n",
            "text/markdown": "\nPassengerId | Survived | Pclass | Sex | Age | SibSp | Parch | Fare | Embarked | Sex_male | Sex_female | Embarked_S | Embarked_C | Embarked_Q | Embarked_ | \n|---|---|---|---|---|---|\n| 1       | 0       | 3       | male    | 22      | 1       | 0       |  7.2500 | S       | 1       | 0       | 1       | 0       | 0       | 0       | \n| 2       | 1       | 1       | female  | 38      | 1       | 0       | 71.2833 | C       | 0       | 1       | 0       | 1       | 0       | 0       | \n| 3       | 1       | 3       | female  | 26      | 0       | 0       |  7.9250 | S       | 0       | 1       | 1       | 0       | 0       | 0       | \n| 4       | 1       | 1       | female  | 35      | 1       | 0       | 53.1000 | S       | 0       | 1       | 1       | 0       | 0       | 0       | \n| 5       | 0       | 3       | male    | 35      | 0       | 0       |  8.0500 | S       | 1       | 0       | 1       | 0       | 0       | 0       | \n| 6       | 0       | 3       | male    | NA      | 0       | 0       |  8.4583 | Q       | 1       | 0       | 0       | 0       | 1       | 0       | \n\n\n",
            "text/html": "<table>\n<thead><tr><th scope=col>PassengerId</th><th scope=col>Survived</th><th scope=col>Pclass</th><th scope=col>Sex</th><th scope=col>Age</th><th scope=col>SibSp</th><th scope=col>Parch</th><th scope=col>Fare</th><th scope=col>Embarked</th><th scope=col>Sex_male</th><th scope=col>Sex_female</th><th scope=col>Embarked_S</th><th scope=col>Embarked_C</th><th scope=col>Embarked_Q</th><th scope=col>Embarked_</th></tr></thead>\n<tbody>\n\t<tr><td>1      </td><td>0      </td><td>3      </td><td>male   </td><td>22     </td><td>1      </td><td>0      </td><td> 7.2500</td><td>S      </td><td>1      </td><td>0      </td><td>1      </td><td>0      </td><td>0      </td><td>0      </td></tr>\n\t<tr><td>2      </td><td>1      </td><td>1      </td><td>female </td><td>38     </td><td>1      </td><td>0      </td><td>71.2833</td><td>C      </td><td>0      </td><td>1      </td><td>0      </td><td>1      </td><td>0      </td><td>0      </td></tr>\n\t<tr><td>3      </td><td>1      </td><td>3      </td><td>female </td><td>26     </td><td>0      </td><td>0      </td><td> 7.9250</td><td>S      </td><td>0      </td><td>1      </td><td>1      </td><td>0      </td><td>0      </td><td>0      </td></tr>\n\t<tr><td>4      </td><td>1      </td><td>1      </td><td>female </td><td>35     </td><td>1      </td><td>0      </td><td>53.1000</td><td>S      </td><td>0      </td><td>1      </td><td>1      </td><td>0      </td><td>0      </td><td>0      </td></tr>\n\t<tr><td>5      </td><td>0      </td><td>3      </td><td>male   </td><td>35     </td><td>0      </td><td>0      </td><td> 8.0500</td><td>S      </td><td>1      </td><td>0      </td><td>1      </td><td>0      </td><td>0      </td><td>0      </td></tr>\n\t<tr><td>6      </td><td>0      </td><td>3      </td><td>male   </td><td>NA     </td><td>0      </td><td>0      </td><td> 8.4583</td><td>Q      </td><td>1      </td><td>0      </td><td>0      </td><td>0      </td><td>1      </td><td>0      </td></tr>\n</tbody>\n</table>\n"
          },
          "metadata": {}
        }
      ]
    },
    {
      "metadata": {
        "trusted": true
      },
      "cell_type": "code",
      "source": "new_data_train[c(\"Sex\", \"Embarked\")] = NULL\nnew_data_test[c(\"Sex\", \"Embarked\")] = NULL",
      "execution_count": 8,
      "outputs": []
    },
    {
      "metadata": {
        "trusted": true
      },
      "cell_type": "code",
      "source": "sum(is.na(new_data_train))",
      "execution_count": 9,
      "outputs": [
        {
          "output_type": "display_data",
          "data": {
            "text/plain": "[1] 177",
            "text/latex": "177",
            "text/markdown": "177",
            "text/html": "177"
          },
          "metadata": {}
        }
      ]
    },
    {
      "metadata": {
        "trusted": true
      },
      "cell_type": "code",
      "source": "summary(new_data_train)",
      "execution_count": 10,
      "outputs": [
        {
          "output_type": "display_data",
          "data": {
            "text/plain": "  PassengerId       Survived          Pclass           Age       \n Min.   :  1.0   Min.   :0.0000   Min.   :1.000   Min.   : 0.42  \n 1st Qu.:223.5   1st Qu.:0.0000   1st Qu.:2.000   1st Qu.:20.12  \n Median :446.0   Median :0.0000   Median :3.000   Median :28.00  \n Mean   :446.0   Mean   :0.3838   Mean   :2.309   Mean   :29.70  \n 3rd Qu.:668.5   3rd Qu.:1.0000   3rd Qu.:3.000   3rd Qu.:38.00  \n Max.   :891.0   Max.   :1.0000   Max.   :3.000   Max.   :80.00  \n                                                  NA's   :177    \n     SibSp           Parch             Fare           Sex_male     \n Min.   :0.000   Min.   :0.0000   Min.   :  0.00   Min.   :0.0000  \n 1st Qu.:0.000   1st Qu.:0.0000   1st Qu.:  7.91   1st Qu.:0.0000  \n Median :0.000   Median :0.0000   Median : 14.45   Median :1.0000  \n Mean   :0.523   Mean   :0.3816   Mean   : 32.20   Mean   :0.6476  \n 3rd Qu.:1.000   3rd Qu.:0.0000   3rd Qu.: 31.00   3rd Qu.:1.0000  \n Max.   :8.000   Max.   :6.0000   Max.   :512.33   Max.   :1.0000  \n                                                                   \n   Sex_female       Embarked_S       Embarked_C       Embarked_Q     \n Min.   :0.0000   Min.   :0.0000   Min.   :0.0000   Min.   :0.00000  \n 1st Qu.:0.0000   1st Qu.:0.0000   1st Qu.:0.0000   1st Qu.:0.00000  \n Median :0.0000   Median :1.0000   Median :0.0000   Median :0.00000  \n Mean   :0.3524   Mean   :0.7228   Mean   :0.1886   Mean   :0.08642  \n 3rd Qu.:1.0000   3rd Qu.:1.0000   3rd Qu.:0.0000   3rd Qu.:0.00000  \n Max.   :1.0000   Max.   :1.0000   Max.   :1.0000   Max.   :1.00000  \n                                                                     \n   Embarked_       \n Min.   :0.000000  \n 1st Qu.:0.000000  \n Median :0.000000  \n Mean   :0.002245  \n 3rd Qu.:0.000000  \n Max.   :1.000000  \n                   "
          },
          "metadata": {}
        }
      ]
    },
    {
      "metadata": {
        "trusted": true
      },
      "cell_type": "code",
      "source": "new_data_train[is.na(new_data_train[\"Age\"]),][\"Age\"] <- mean(as.numeric(unlist(new_data_train[\"Age\"])), na.rm=T)\nnew_data_test[is.na(new_data_test[\"Age\"]),][\"Age\"] <- mean(as.numeric(unlist(new_data_test[\"Age\"])), na.rm=T)",
      "execution_count": 11,
      "outputs": []
    },
    {
      "metadata": {
        "trusted": true
      },
      "cell_type": "code",
      "source": "head(new_data_train)",
      "execution_count": 12,
      "outputs": [
        {
          "output_type": "display_data",
          "data": {
            "text/plain": "  PassengerId Survived Pclass Age      SibSp Parch Fare    Sex_male Sex_female\n1 1           0        3      22.00000 1     0      7.2500 1        0         \n2 2           1        1      38.00000 1     0     71.2833 0        1         \n3 3           1        3      26.00000 0     0      7.9250 0        1         \n4 4           1        1      35.00000 1     0     53.1000 0        1         \n5 5           0        3      35.00000 0     0      8.0500 1        0         \n6 6           0        3      29.69912 0     0      8.4583 1        0         \n  Embarked_S Embarked_C Embarked_Q Embarked_\n1 1          0          0          0        \n2 0          1          0          0        \n3 1          0          0          0        \n4 1          0          0          0        \n5 1          0          0          0        \n6 0          0          1          0        ",
            "text/latex": "\\begin{tabular}{r|lllllllllllll}\n PassengerId & Survived & Pclass & Age & SibSp & Parch & Fare & Sex\\_male & Sex\\_female & Embarked\\_S & Embarked\\_C & Embarked\\_Q & Embarked\\_\\\\\n\\hline\n\t 1        & 0        & 3        & 22.00000 & 1        & 0        &  7.2500  & 1        & 0        & 1        & 0        & 0        & 0       \\\\\n\t 2        & 1        & 1        & 38.00000 & 1        & 0        & 71.2833  & 0        & 1        & 0        & 1        & 0        & 0       \\\\\n\t 3        & 1        & 3        & 26.00000 & 0        & 0        &  7.9250  & 0        & 1        & 1        & 0        & 0        & 0       \\\\\n\t 4        & 1        & 1        & 35.00000 & 1        & 0        & 53.1000  & 0        & 1        & 1        & 0        & 0        & 0       \\\\\n\t 5        & 0        & 3        & 35.00000 & 0        & 0        &  8.0500  & 1        & 0        & 1        & 0        & 0        & 0       \\\\\n\t 6        & 0        & 3        & 29.69912 & 0        & 0        &  8.4583  & 1        & 0        & 0        & 0        & 1        & 0       \\\\\n\\end{tabular}\n",
            "text/markdown": "\nPassengerId | Survived | Pclass | Age | SibSp | Parch | Fare | Sex_male | Sex_female | Embarked_S | Embarked_C | Embarked_Q | Embarked_ | \n|---|---|---|---|---|---|\n| 1        | 0        | 3        | 22.00000 | 1        | 0        |  7.2500  | 1        | 0        | 1        | 0        | 0        | 0        | \n| 2        | 1        | 1        | 38.00000 | 1        | 0        | 71.2833  | 0        | 1        | 0        | 1        | 0        | 0        | \n| 3        | 1        | 3        | 26.00000 | 0        | 0        |  7.9250  | 0        | 1        | 1        | 0        | 0        | 0        | \n| 4        | 1        | 1        | 35.00000 | 1        | 0        | 53.1000  | 0        | 1        | 1        | 0        | 0        | 0        | \n| 5        | 0        | 3        | 35.00000 | 0        | 0        |  8.0500  | 1        | 0        | 1        | 0        | 0        | 0        | \n| 6        | 0        | 3        | 29.69912 | 0        | 0        |  8.4583  | 1        | 0        | 0        | 0        | 1        | 0        | \n\n\n",
            "text/html": "<table>\n<thead><tr><th scope=col>PassengerId</th><th scope=col>Survived</th><th scope=col>Pclass</th><th scope=col>Age</th><th scope=col>SibSp</th><th scope=col>Parch</th><th scope=col>Fare</th><th scope=col>Sex_male</th><th scope=col>Sex_female</th><th scope=col>Embarked_S</th><th scope=col>Embarked_C</th><th scope=col>Embarked_Q</th><th scope=col>Embarked_</th></tr></thead>\n<tbody>\n\t<tr><td>1       </td><td>0       </td><td>3       </td><td>22.00000</td><td>1       </td><td>0       </td><td> 7.2500 </td><td>1       </td><td>0       </td><td>1       </td><td>0       </td><td>0       </td><td>0       </td></tr>\n\t<tr><td>2       </td><td>1       </td><td>1       </td><td>38.00000</td><td>1       </td><td>0       </td><td>71.2833 </td><td>0       </td><td>1       </td><td>0       </td><td>1       </td><td>0       </td><td>0       </td></tr>\n\t<tr><td>3       </td><td>1       </td><td>3       </td><td>26.00000</td><td>0       </td><td>0       </td><td> 7.9250 </td><td>0       </td><td>1       </td><td>1       </td><td>0       </td><td>0       </td><td>0       </td></tr>\n\t<tr><td>4       </td><td>1       </td><td>1       </td><td>35.00000</td><td>1       </td><td>0       </td><td>53.1000 </td><td>0       </td><td>1       </td><td>1       </td><td>0       </td><td>0       </td><td>0       </td></tr>\n\t<tr><td>5       </td><td>0       </td><td>3       </td><td>35.00000</td><td>0       </td><td>0       </td><td> 8.0500 </td><td>1       </td><td>0       </td><td>1       </td><td>0       </td><td>0       </td><td>0       </td></tr>\n\t<tr><td>6       </td><td>0       </td><td>3       </td><td>29.69912</td><td>0       </td><td>0       </td><td> 8.4583 </td><td>1       </td><td>0       </td><td>0       </td><td>0       </td><td>1       </td><td>0       </td></tr>\n</tbody>\n</table>\n"
          },
          "metadata": {}
        }
      ]
    },
    {
      "metadata": {
        "trusted": true
      },
      "cell_type": "code",
      "source": "summary(new_data_test)",
      "execution_count": 13,
      "outputs": [
        {
          "output_type": "display_data",
          "data": {
            "text/plain": "  PassengerId         Pclass           Age            SibSp       \n Min.   : 892.0   Min.   :1.000   Min.   : 0.17   Min.   :0.0000  \n 1st Qu.: 996.2   1st Qu.:1.000   1st Qu.:23.00   1st Qu.:0.0000  \n Median :1100.5   Median :3.000   Median :30.27   Median :0.0000  \n Mean   :1100.5   Mean   :2.266   Mean   :30.27   Mean   :0.4474  \n 3rd Qu.:1204.8   3rd Qu.:3.000   3rd Qu.:35.75   3rd Qu.:1.0000  \n Max.   :1309.0   Max.   :3.000   Max.   :76.00   Max.   :8.0000  \n                                                                  \n     Parch             Fare            Sex_male        Sex_female    \n Min.   :0.0000   Min.   :  0.000   Min.   :0.0000   Min.   :0.0000  \n 1st Qu.:0.0000   1st Qu.:  7.896   1st Qu.:0.0000   1st Qu.:0.0000  \n Median :0.0000   Median : 14.454   Median :1.0000   Median :0.0000  \n Mean   :0.3923   Mean   : 35.627   Mean   :0.6364   Mean   :0.3636  \n 3rd Qu.:0.0000   3rd Qu.: 31.500   3rd Qu.:1.0000   3rd Qu.:1.0000  \n Max.   :9.0000   Max.   :512.329   Max.   :1.0000   Max.   :1.0000  \n                  NA's   :1                                          \n   Embarked_Q     Embarked_S       Embarked_C   \n Min.   :0.00   Min.   :0.0000   Min.   :0.000  \n 1st Qu.:0.00   1st Qu.:0.0000   1st Qu.:0.000  \n Median :0.00   Median :1.0000   Median :0.000  \n Mean   :0.11   Mean   :0.6459   Mean   :0.244  \n 3rd Qu.:0.00   3rd Qu.:1.0000   3rd Qu.:0.000  \n Max.   :1.00   Max.   :1.0000   Max.   :1.000  \n                                                "
          },
          "metadata": {}
        }
      ]
    },
    {
      "metadata": {
        "trusted": true
      },
      "cell_type": "code",
      "source": "new_data_test[is.na(new_data_test[\"Fare\"]),][\"Fare\"] <- mean(as.numeric(unlist(new_data_test[\"Fare\"])), na.rm=T)",
      "execution_count": 14,
      "outputs": []
    },
    {
      "metadata": {
        "trusted": true
      },
      "cell_type": "code",
      "source": "",
      "execution_count": null,
      "outputs": []
    }
  ],
  "metadata": {
    "kernelspec": {
      "name": "r",
      "display_name": "R",
      "language": "R"
    },
    "language_info": {
      "mimetype": "text/x-r-source",
      "name": "R",
      "pygments_lexer": "r",
      "version": "3.4.1",
      "file_extension": ".r",
      "codemirror_mode": "r"
    }
  },
  "nbformat": 4,
  "nbformat_minor": 2
}